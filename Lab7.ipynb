{
 "cells": [
  {
   "cell_type": "markdown",
   "metadata": {},
   "source": [
    "<b>Zadanie 1</b> <br>\n",
    "Wybrać trzy metody poszukiwania pierwiastków:\n",
    "\n",
    "    wykorzystującą przedział i zmianę znaku,\n",
    "    wykorzystującą pochodną,\n",
    "    wykorzystującą przybliżenie pochodnej\n",
    "\n",
    "1.Każdą z trzech wybranych metod przetestować (ilość iteracji, ilość wywołań funkcji) na sześciu wybranych funkcjach ze zbioru http://people.sc.fsu.edu/~jburkardt/py_src/test_zero/test_zero.html Wyniki przedstawić w formie tabelki. \n",
    "Pamiętać o sprawdzeniu czy wynik jest poprawny poprzez obliczenie wartości funkcji dla znalezionego pierwiastka !"
   ]
  },
  {
   "cell_type": "markdown",
   "metadata": {},
   "source": [
    "<b> Wykorzystując przedział i zmianę znaku </b>"
   ]
  },
  {
   "cell_type": "code",
   "execution_count": 48,
   "metadata": {},
   "outputs": [
    {
     "data": {
      "image/svg+xml": [
       "<?xml version=\"1.0\" encoding=\"utf-8\"?>\n",
       "<svg xmlns=\"http://www.w3.org/2000/svg\" xmlns:xlink=\"http://www.w3.org/1999/xlink\" width=\"600\" height=\"400\" viewBox=\"0 0 2400 1600\">\n",
       "<defs>\n",
       "  <clipPath id=\"clip9100\">\n",
       "    <rect x=\"0\" y=\"0\" width=\"2000\" height=\"2000\"/>\n",
       "  </clipPath>\n",
       "</defs>\n",
       "<defs>\n",
       "  <clipPath id=\"clip9101\">\n",
       "    <rect x=\"0\" y=\"0\" width=\"2400\" height=\"1600\"/>\n",
       "  </clipPath>\n",
       "</defs>\n",
       "<polygon clip-path=\"url(#clip9101)\" points=\"\n",
       "0,1600 2400,1600 2400,0 0,0 \n",
       "  \" fill=\"#ffffff\" fill-rule=\"evenodd\" fill-opacity=\"1\"/>\n",
       "<defs>\n",
       "  <clipPath id=\"clip9102\">\n",
       "    <rect x=\"480\" y=\"0\" width=\"1681\" height=\"1600\"/>\n",
       "  </clipPath>\n",
       "</defs>\n",
       "<polygon clip-path=\"url(#clip9101)\" points=\"\n",
       "295.446,1503.47 2321.26,1503.47 2321.26,47.2441 295.446,47.2441 \n",
       "  \" fill=\"#ffffff\" fill-rule=\"evenodd\" fill-opacity=\"1\"/>\n",
       "<defs>\n",
       "  <clipPath id=\"clip9103\">\n",
       "    <rect x=\"295\" y=\"47\" width=\"2027\" height=\"1457\"/>\n",
       "  </clipPath>\n",
       "</defs>\n",
       "<polyline clip-path=\"url(#clip9103)\" style=\"stroke:#000000; stroke-width:2; stroke-opacity:0.1; fill:none\" points=\"\n",
       "  333.903,1503.47 333.903,47.2441 \n",
       "  \"/>\n",
       "<polyline clip-path=\"url(#clip9103)\" style=\"stroke:#000000; stroke-width:2; stroke-opacity:0.1; fill:none\" points=\"\n",
       "  817.176,1503.47 817.176,47.2441 \n",
       "  \"/>\n",
       "<polyline clip-path=\"url(#clip9103)\" style=\"stroke:#000000; stroke-width:2; stroke-opacity:0.1; fill:none\" points=\"\n",
       "  1300.45,1503.47 1300.45,47.2441 \n",
       "  \"/>\n",
       "<polyline clip-path=\"url(#clip9103)\" style=\"stroke:#000000; stroke-width:2; stroke-opacity:0.1; fill:none\" points=\"\n",
       "  1783.72,1503.47 1783.72,47.2441 \n",
       "  \"/>\n",
       "<polyline clip-path=\"url(#clip9103)\" style=\"stroke:#000000; stroke-width:2; stroke-opacity:0.1; fill:none\" points=\"\n",
       "  2267,1503.47 2267,47.2441 \n",
       "  \"/>\n",
       "<polyline clip-path=\"url(#clip9103)\" style=\"stroke:#000000; stroke-width:2; stroke-opacity:0.1; fill:none\" points=\"\n",
       "  295.446,1461.93 2321.26,1461.93 \n",
       "  \"/>\n",
       "<polyline clip-path=\"url(#clip9103)\" style=\"stroke:#000000; stroke-width:2; stroke-opacity:0.1; fill:none\" points=\"\n",
       "  295.446,1140.06 2321.26,1140.06 \n",
       "  \"/>\n",
       "<polyline clip-path=\"url(#clip9103)\" style=\"stroke:#000000; stroke-width:2; stroke-opacity:0.1; fill:none\" points=\"\n",
       "  295.446,818.183 2321.26,818.183 \n",
       "  \"/>\n",
       "<polyline clip-path=\"url(#clip9103)\" style=\"stroke:#000000; stroke-width:2; stroke-opacity:0.1; fill:none\" points=\"\n",
       "  295.446,496.311 2321.26,496.311 \n",
       "  \"/>\n",
       "<polyline clip-path=\"url(#clip9103)\" style=\"stroke:#000000; stroke-width:2; stroke-opacity:0.1; fill:none\" points=\"\n",
       "  295.446,174.438 2321.26,174.438 \n",
       "  \"/>\n",
       "<polyline clip-path=\"url(#clip9101)\" style=\"stroke:#000000; stroke-width:4; stroke-opacity:1; fill:none\" points=\"\n",
       "  295.446,1503.47 2321.26,1503.47 \n",
       "  \"/>\n",
       "<polyline clip-path=\"url(#clip9101)\" style=\"stroke:#000000; stroke-width:4; stroke-opacity:1; fill:none\" points=\"\n",
       "  295.446,1503.47 295.446,47.2441 \n",
       "  \"/>\n",
       "<polyline clip-path=\"url(#clip9101)\" style=\"stroke:#000000; stroke-width:4; stroke-opacity:1; fill:none\" points=\"\n",
       "  333.903,1503.47 333.903,1481.63 \n",
       "  \"/>\n",
       "<polyline clip-path=\"url(#clip9101)\" style=\"stroke:#000000; stroke-width:4; stroke-opacity:1; fill:none\" points=\"\n",
       "  817.176,1503.47 817.176,1481.63 \n",
       "  \"/>\n",
       "<polyline clip-path=\"url(#clip9101)\" style=\"stroke:#000000; stroke-width:4; stroke-opacity:1; fill:none\" points=\"\n",
       "  1300.45,1503.47 1300.45,1481.63 \n",
       "  \"/>\n",
       "<polyline clip-path=\"url(#clip9101)\" style=\"stroke:#000000; stroke-width:4; stroke-opacity:1; fill:none\" points=\"\n",
       "  1783.72,1503.47 1783.72,1481.63 \n",
       "  \"/>\n",
       "<polyline clip-path=\"url(#clip9101)\" style=\"stroke:#000000; stroke-width:4; stroke-opacity:1; fill:none\" points=\"\n",
       "  2267,1503.47 2267,1481.63 \n",
       "  \"/>\n",
       "<polyline clip-path=\"url(#clip9101)\" style=\"stroke:#000000; stroke-width:4; stroke-opacity:1; fill:none\" points=\"\n",
       "  295.446,1461.93 325.834,1461.93 \n",
       "  \"/>\n",
       "<polyline clip-path=\"url(#clip9101)\" style=\"stroke:#000000; stroke-width:4; stroke-opacity:1; fill:none\" points=\"\n",
       "  295.446,1140.06 325.834,1140.06 \n",
       "  \"/>\n",
       "<polyline clip-path=\"url(#clip9101)\" style=\"stroke:#000000; stroke-width:4; stroke-opacity:1; fill:none\" points=\"\n",
       "  295.446,818.183 325.834,818.183 \n",
       "  \"/>\n",
       "<polyline clip-path=\"url(#clip9101)\" style=\"stroke:#000000; stroke-width:4; stroke-opacity:1; fill:none\" points=\"\n",
       "  295.446,496.311 325.834,496.311 \n",
       "  \"/>\n",
       "<polyline clip-path=\"url(#clip9101)\" style=\"stroke:#000000; stroke-width:4; stroke-opacity:1; fill:none\" points=\"\n",
       "  295.446,174.438 325.834,174.438 \n",
       "  \"/>\n",
       "<g clip-path=\"url(#clip9101)\">\n",
       "<text style=\"fill:#000000; fill-opacity:1; font-family:Arial,Helvetica Neue,Helvetica,sans-serif; font-size:48px; text-anchor:middle;\" transform=\"rotate(0, 333.903, 1557.47)\" x=\"333.903\" y=\"1557.47\">-10</text>\n",
       "</g>\n",
       "<g clip-path=\"url(#clip9101)\">\n",
       "<text style=\"fill:#000000; fill-opacity:1; font-family:Arial,Helvetica Neue,Helvetica,sans-serif; font-size:48px; text-anchor:middle;\" transform=\"rotate(0, 817.176, 1557.47)\" x=\"817.176\" y=\"1557.47\">-5</text>\n",
       "</g>\n",
       "<g clip-path=\"url(#clip9101)\">\n",
       "<text style=\"fill:#000000; fill-opacity:1; font-family:Arial,Helvetica Neue,Helvetica,sans-serif; font-size:48px; text-anchor:middle;\" transform=\"rotate(0, 1300.45, 1557.47)\" x=\"1300.45\" y=\"1557.47\">0</text>\n",
       "</g>\n",
       "<g clip-path=\"url(#clip9101)\">\n",
       "<text style=\"fill:#000000; fill-opacity:1; font-family:Arial,Helvetica Neue,Helvetica,sans-serif; font-size:48px; text-anchor:middle;\" transform=\"rotate(0, 1783.72, 1557.47)\" x=\"1783.72\" y=\"1557.47\">5</text>\n",
       "</g>\n",
       "<g clip-path=\"url(#clip9101)\">\n",
       "<text style=\"fill:#000000; fill-opacity:1; font-family:Arial,Helvetica Neue,Helvetica,sans-serif; font-size:48px; text-anchor:middle;\" transform=\"rotate(0, 2267, 1557.47)\" x=\"2267\" y=\"1557.47\">10</text>\n",
       "</g>\n",
       "<g clip-path=\"url(#clip9101)\">\n",
       "<text style=\"fill:#000000; fill-opacity:1; font-family:Arial,Helvetica Neue,Helvetica,sans-serif; font-size:48px; text-anchor:end;\" transform=\"rotate(0, 271.446, 1479.43)\" x=\"271.446\" y=\"1479.43\">0</text>\n",
       "</g>\n",
       "<g clip-path=\"url(#clip9101)\">\n",
       "<text style=\"fill:#000000; fill-opacity:1; font-family:Arial,Helvetica Neue,Helvetica,sans-serif; font-size:48px; text-anchor:start;\" transform=\"rotate(0, 101.161, 1163.78)\" x=\"101.161\" y=\"1163.78\">5.0×10</text>\n",
       "</g>\n",
       "<g clip-path=\"url(#clip9101)\">\n",
       "<text style=\"fill:#000000; fill-opacity:1; font-family:Arial,Helvetica Neue,Helvetica,sans-serif; font-size:38px; text-anchor:start;\" transform=\"rotate(0, 249.702, 1136.37)\" x=\"249.702\" y=\"1136.37\">3</text>\n",
       "</g>\n",
       "<g clip-path=\"url(#clip9101)\">\n",
       "<text style=\"fill:#000000; fill-opacity:1; font-family:Arial,Helvetica Neue,Helvetica,sans-serif; font-size:48px; text-anchor:start;\" transform=\"rotate(0, 101.161, 841.911)\" x=\"101.161\" y=\"841.911\">1.0×10</text>\n",
       "</g>\n",
       "<g clip-path=\"url(#clip9101)\">\n",
       "<text style=\"fill:#000000; fill-opacity:1; font-family:Arial,Helvetica Neue,Helvetica,sans-serif; font-size:38px; text-anchor:start;\" transform=\"rotate(0, 249.702, 814.5)\" x=\"249.702\" y=\"814.5\">4</text>\n",
       "</g>\n",
       "<g clip-path=\"url(#clip9101)\">\n",
       "<text style=\"fill:#000000; fill-opacity:1; font-family:Arial,Helvetica Neue,Helvetica,sans-serif; font-size:48px; text-anchor:start;\" transform=\"rotate(0, 101.161, 520.038)\" x=\"101.161\" y=\"520.038\">1.5×10</text>\n",
       "</g>\n",
       "<g clip-path=\"url(#clip9101)\">\n",
       "<text style=\"fill:#000000; fill-opacity:1; font-family:Arial,Helvetica Neue,Helvetica,sans-serif; font-size:38px; text-anchor:start;\" transform=\"rotate(0, 249.702, 492.628)\" x=\"249.702\" y=\"492.628\">4</text>\n",
       "</g>\n",
       "<g clip-path=\"url(#clip9101)\">\n",
       "<text style=\"fill:#000000; fill-opacity:1; font-family:Arial,Helvetica Neue,Helvetica,sans-serif; font-size:48px; text-anchor:start;\" transform=\"rotate(0, 101.161, 198.166)\" x=\"101.161\" y=\"198.166\">2.0×10</text>\n",
       "</g>\n",
       "<g clip-path=\"url(#clip9101)\">\n",
       "<text style=\"fill:#000000; fill-opacity:1; font-family:Arial,Helvetica Neue,Helvetica,sans-serif; font-size:38px; text-anchor:start;\" transform=\"rotate(0, 249.702, 170.755)\" x=\"249.702\" y=\"170.755\">4</text>\n",
       "</g>\n",
       "<polyline clip-path=\"url(#clip9103)\" style=\"stroke:#009af9; stroke-width:4; stroke-opacity:1; fill:none\" points=\"\n",
       "  352.781,1462.06 527.337,1462.06 632.239,1462.06 720.931,1462.06 817.276,1462.06 906.098,1462.06 1001.32,1462.05 1111.65,1462.05 1209.7,1462.03 1295.68,1462.26 \n",
       "  1389.42,1461.9 1483.72,1461.63 1587.97,1460.8 1687.17,1458.54 1790.31,1451.83 1877.14,1436.94 1930.14,1418.6 1983.14,1386.85 2008.05,1364.75 2032.97,1336.14 \n",
       "  2057.88,1299.12 2082.79,1251.21 2102.74,1202.86 2122.7,1143.42 2142.65,1070.36 2162.61,980.535 2172.59,928.172 2182.56,870.115 2192.54,805.745 2202.52,734.374 \n",
       "  2212.5,655.242 2222.47,567.505 2232.45,470.228 2242.43,362.371 2245.5,326.87 2248.57,290.223 2251.64,252.393 2254.71,213.341 2257.78,173.029 2260.85,131.415 \n",
       "  2263.93,88.4582 \n",
       "  \"/>\n",
       "<polygon clip-path=\"url(#clip9101)\" points=\"\n",
       "1958.43,251.724 2249.26,251.724 2249.26,130.764 1958.43,130.764 \n",
       "  \" fill=\"#ffffff\" fill-rule=\"evenodd\" fill-opacity=\"1\"/>\n",
       "<polyline clip-path=\"url(#clip9101)\" style=\"stroke:#000000; stroke-width:4; stroke-opacity:1; fill:none\" points=\"\n",
       "  1958.43,251.724 2249.26,251.724 2249.26,130.764 1958.43,130.764 1958.43,251.724 \n",
       "  \"/>\n",
       "<polyline clip-path=\"url(#clip9101)\" style=\"stroke:#009af9; stroke-width:4; stroke-opacity:1; fill:none\" points=\"\n",
       "  1982.43,191.244 2126.43,191.244 \n",
       "  \"/>\n",
       "<g clip-path=\"url(#clip9101)\">\n",
       "<text style=\"fill:#000000; fill-opacity:1; font-family:Arial,Helvetica Neue,Helvetica,sans-serif; font-size:48px; text-anchor:start;\" transform=\"rotate(0, 2150.43, 208.744)\" x=\"2150.43\" y=\"208.744\">y1</text>\n",
       "</g>\n",
       "</svg>\n"
      ]
     },
     "execution_count": 48,
     "metadata": {},
     "output_type": "execute_result"
    }
   ],
   "source": [
    "using Roots  \n",
    "using Plots\n",
    "using ForwardDiff\n",
    "\n",
    "f1(x) = 2*x - exp(-x)\n",
    "f2(x) = sin(x) - x/2\n",
    "f3(x) = x * exp(-x)\n",
    "f4(x) = x^3\n",
    "f5(x) = (x + 3) * (x - 1)^2\n",
    "f6(x) = exp(x) - 2 - 1/((10 * x)^2) + 2/((100 * x)^3)\n",
    "plot(f6, -10, 10)"
   ]
  },
  {
   "cell_type": "code",
   "execution_count": 10,
   "metadata": {},
   "outputs": [
    {
     "name": "stdout",
     "output_type": "stream",
     "text": [
      "Results of univariate zero finding:\n",
      "\n",
      "* Converged to: 0.35173371124919584\n",
      "* Algorithm: FalsePosition{:anderson_bjork}()\n",
      "* iterations: 7\n",
      "* function evaluations: 9\n",
      "* stopped as |f(x_n)| ≤ max(δ, max(1,|x|)⋅ϵ) using δ = atol, ϵ = rtol\n",
      "\n",
      "Trace:\n",
      "(a_0, b_0) = ( 0.0000000000000000,  2.0000000000000000)\n",
      "(a_1, b_1) = ( 0.0000000000000000,  1.0000000000000000)\n",
      "(a_2, b_2) = ( 1.0000000000000000,  0.2345083151745945)\n",
      "(a_3, b_3) = ( 0.2345083151745945,  0.3606273993506688)\n",
      "(a_4, b_4) = ( 0.2345083151745945,  0.3518723665715570)\n",
      "(a_5, b_5) = ( 0.2345083151745945,  0.3517337150977713)\n",
      "(a_6, b_6) = ( 0.3517337150977713,  0.3517337112491266)\n",
      "(a_7, b_7) = ( 0.3517337150977713,  0.3517337112491958)\n",
      "\n"
     ]
    },
    {
     "data": {
      "text/plain": [
       "-1.0"
      ]
     },
     "execution_count": 10,
     "metadata": {},
     "output_type": "execute_result"
    }
   ],
   "source": [
    "x1 = find_zero(f1, (0, 2), FalsePosition(), verbose=true)\n",
    "iszero(f1(x1))\n",
    "sign(f1(prevfloat(x1))) *sign(f1(nextfloat(x1)))"
   ]
  },
  {
   "cell_type": "code",
   "execution_count": 27,
   "metadata": {},
   "outputs": [
    {
     "name": "stdout",
     "output_type": "stream",
     "text": [
      "Results of univariate zero finding:\n",
      "\n",
      "* Converged to: 9.313225746154785e-16\n",
      "* Algorithm: FalsePosition{:anderson_bjork}()\n",
      "* iterations: 30\n",
      "* function evaluations: 32\n",
      "* stopped as |f(x_n)| ≤ max(δ, max(1,|x|)⋅ϵ) using δ = atol, ϵ = rtol\n",
      "\n",
      "Trace:\n",
      "(a_0, b_0) = ( 0.0000000000000000,  0.0000010000000000)\n",
      "(a_1, b_1) = ( 0.0000000000000000,  0.0000005000000000)\n",
      "(a_2, b_2) = ( 0.0000000000000000,  0.0000002500000000)\n",
      "(a_3, b_3) = ( 0.0000000000000000,  0.0000001250000000)\n",
      "(a_4, b_4) = ( 0.0000000000000000,  0.0000000625000000)\n",
      "(a_5, b_5) = ( 0.0000000000000000,  0.0000000312500000)\n",
      "(a_6, b_6) = ( 0.0000000000000000,  0.0000000156250000)\n",
      "(a_7, b_7) = ( 0.0000000000000000,  0.0000000078125000)\n",
      "(a_8, b_8) = ( 0.0000000000000000,  0.0000000039062500)\n",
      "(a_9, b_9) = ( 0.0000000000000000,  0.0000000019531250)\n",
      "(a_10, b_10) = ( 0.0000000000000000,  0.0000000009765625)\n",
      "(a_11, b_11) = ( 0.0000000000000000,  0.0000000004882812)\n",
      "(a_12, b_12) = ( 0.0000000000000000,  0.0000000002441406)\n",
      "(a_13, b_13) = ( 0.0000000000000000,  0.0000000001220703)\n",
      "(a_14, b_14) = ( 0.0000000000000000,  0.0000000000610352)\n",
      "(a_15, b_15) = ( 0.0000000000000000,  0.0000000000305176)\n",
      "(a_16, b_16) = ( 0.0000000000000000,  0.0000000000152588)\n",
      "(a_17, b_17) = ( 0.0000000000000000,  0.0000000000076294)\n",
      "(a_18, b_18) = ( 0.0000000000000000,  0.0000000000038147)\n",
      "(a_19, b_19) = ( 0.0000000000000000,  0.0000000000019073)\n",
      "(a_20, b_20) = ( 0.0000000000000000,  0.0000000000009537)\n",
      "(a_21, b_21) = ( 0.0000000000000000,  0.0000000000004768)\n",
      "(a_22, b_22) = ( 0.0000000000000000,  0.0000000000002384)\n",
      "(a_23, b_23) = ( 0.0000000000000000,  0.0000000000001192)\n",
      "(a_24, b_24) = ( 0.0000000000000000,  0.0000000000000596)\n",
      "(a_25, b_25) = ( 0.0000000000000000,  0.0000000000000298)\n",
      "(a_26, b_26) = ( 0.0000000000000000,  0.0000000000000149)\n",
      "(a_27, b_27) = ( 0.0000000000000000,  0.0000000000000075)\n",
      "(a_28, b_28) = ( 0.0000000000000000,  0.0000000000000037)\n",
      "(a_29, b_29) = ( 0.0000000000000000,  0.0000000000000019)\n",
      "(a_30, b_30) = ( 0.0000000000000000,  0.0000000000000009)\n",
      "\n"
     ]
    },
    {
     "data": {
      "text/plain": [
       "1.0"
      ]
     },
     "execution_count": 27,
     "metadata": {},
     "output_type": "execute_result"
    }
   ],
   "source": [
    "x2 = find_zero(f2, (-0.000001,0.000001), FalsePosition(), verbose=true)\n",
    "iszero(f2(x2))\n",
    "sign(f2(prevfloat(x2)))*sign(f2(nextfloat(x2)))"
   ]
  },
  {
   "cell_type": "code",
   "execution_count": 32,
   "metadata": {},
   "outputs": [
    {
     "name": "stdout",
     "output_type": "stream",
     "text": [
      "Results of univariate zero finding:\n",
      "\n",
      "* Converged to: 4.656612873077392e-16\n",
      "* Algorithm: FalsePosition{:anderson_bjork}()\n",
      "* iterations: 31\n",
      "* function evaluations: 33\n",
      "* stopped as |f(x_n)| ≤ max(δ, max(1,|x|)⋅ϵ) using δ = atol, ϵ = rtol\n",
      "\n",
      "Trace:\n",
      "(a_0, b_0) = ( 0.0000000000000000,  0.0000010000000000)\n",
      "(a_1, b_1) = ( 0.0000000000000000,  0.0000005000000000)\n",
      "(a_2, b_2) = ( 0.0000000000000000,  0.0000002500000000)\n",
      "(a_3, b_3) = ( 0.0000000000000000,  0.0000001250000000)\n",
      "(a_4, b_4) = ( 0.0000000000000000,  0.0000000625000000)\n",
      "(a_5, b_5) = ( 0.0000000000000000,  0.0000000312500000)\n",
      "(a_6, b_6) = ( 0.0000000000000000,  0.0000000156250000)\n",
      "(a_7, b_7) = ( 0.0000000000000000,  0.0000000078125000)\n",
      "(a_8, b_8) = ( 0.0000000000000000,  0.0000000039062500)\n",
      "(a_9, b_9) = ( 0.0000000000000000,  0.0000000019531250)\n",
      "(a_10, b_10) = ( 0.0000000000000000,  0.0000000009765625)\n",
      "(a_11, b_11) = ( 0.0000000000000000,  0.0000000004882812)\n",
      "(a_12, b_12) = ( 0.0000000000000000,  0.0000000002441406)\n",
      "(a_13, b_13) = ( 0.0000000000000000,  0.0000000001220703)\n",
      "(a_14, b_14) = ( 0.0000000000000000,  0.0000000000610352)\n",
      "(a_15, b_15) = ( 0.0000000000000000,  0.0000000000305176)\n",
      "(a_16, b_16) = ( 0.0000000000000000,  0.0000000000152588)\n",
      "(a_17, b_17) = ( 0.0000000000000000,  0.0000000000076294)\n",
      "(a_18, b_18) = ( 0.0000000000000000,  0.0000000000038147)\n",
      "(a_19, b_19) = ( 0.0000000000000000,  0.0000000000019073)\n",
      "(a_20, b_20) = ( 0.0000000000000000,  0.0000000000009537)\n",
      "(a_21, b_21) = ( 0.0000000000000000,  0.0000000000004768)\n",
      "(a_22, b_22) = ( 0.0000000000000000,  0.0000000000002384)\n",
      "(a_23, b_23) = ( 0.0000000000000000,  0.0000000000001192)\n",
      "(a_24, b_24) = ( 0.0000000000000000,  0.0000000000000596)\n",
      "(a_25, b_25) = ( 0.0000000000000000,  0.0000000000000298)\n",
      "(a_26, b_26) = ( 0.0000000000000000,  0.0000000000000149)\n",
      "(a_27, b_27) = ( 0.0000000000000000,  0.0000000000000075)\n",
      "(a_28, b_28) = ( 0.0000000000000000,  0.0000000000000037)\n",
      "(a_29, b_29) = ( 0.0000000000000000,  0.0000000000000019)\n",
      "(a_30, b_30) = ( 0.0000000000000000,  0.0000000000000009)\n",
      "(a_31, b_31) = ( 0.0000000000000000,  0.0000000000000005)\n",
      "\n"
     ]
    },
    {
     "data": {
      "text/plain": [
       "1.0"
      ]
     },
     "execution_count": 32,
     "metadata": {},
     "output_type": "execute_result"
    }
   ],
   "source": [
    "x3 = find_zero(f3, (-2,0.000001), FalsePosition(), verbose=true)\n",
    "iszero(f3(x3))\n",
    "sign(f3(prevfloat(x3)))*sign(f3(nextfloat(x3)))"
   ]
  },
  {
   "cell_type": "code",
   "execution_count": 36,
   "metadata": {},
   "outputs": [
    {
     "name": "stdout",
     "output_type": "stream",
     "text": [
      "Results of univariate zero finding:\n",
      "\n",
      "* Converged to: 7.62939453125e-6\n",
      "* Algorithm: FalsePosition{:anderson_bjork}()\n",
      "* iterations: 17\n",
      "* function evaluations: 19\n",
      "* stopped as |f(x_n)| ≤ max(δ, max(1,|x|)⋅ϵ) using δ = atol, ϵ = rtol\n",
      "\n",
      "Trace:\n",
      "(a_0, b_0) = ( 0.0000000000000000,  1.0000000000000000)\n",
      "(a_1, b_1) = ( 0.0000000000000000,  0.5000000000000000)\n",
      "(a_2, b_2) = ( 0.0000000000000000,  0.2500000000000000)\n",
      "(a_3, b_3) = ( 0.0000000000000000,  0.1250000000000000)\n",
      "(a_4, b_4) = ( 0.0000000000000000,  0.0625000000000000)\n",
      "(a_5, b_5) = ( 0.0000000000000000,  0.0312500000000000)\n",
      "(a_6, b_6) = ( 0.0000000000000000,  0.0156250000000000)\n",
      "(a_7, b_7) = ( 0.0000000000000000,  0.0078125000000000)\n",
      "(a_8, b_8) = ( 0.0000000000000000,  0.0039062500000000)\n",
      "(a_9, b_9) = ( 0.0000000000000000,  0.0019531250000000)\n",
      "(a_10, b_10) = ( 0.0000000000000000,  0.0009765625000000)\n",
      "(a_11, b_11) = ( 0.0000000000000000,  0.0004882812500000)\n",
      "(a_12, b_12) = ( 0.0000000000000000,  0.0002441406250000)\n",
      "(a_13, b_13) = ( 0.0000000000000000,  0.0001220703125000)\n",
      "(a_14, b_14) = ( 0.0000000000000000,  0.0000610351562500)\n",
      "(a_15, b_15) = ( 0.0000000000000000,  0.0000305175781250)\n",
      "(a_16, b_16) = ( 0.0000000000000000,  0.0000152587890625)\n",
      "(a_17, b_17) = ( 0.0000000000000000,  0.0000076293945313)\n",
      "\n"
     ]
    },
    {
     "data": {
      "text/plain": [
       "1.0"
      ]
     },
     "execution_count": 36,
     "metadata": {},
     "output_type": "execute_result"
    }
   ],
   "source": [
    "x4 = find_zero(f4, (0,1), FalsePosition(), verbose=true)\n",
    "iszero(f4(x4))\n",
    "sign(f4(prevfloat(x4)))*sign(f4(nextfloat(x4)))"
   ]
  },
  {
   "cell_type": "code",
   "execution_count": 14,
   "metadata": {},
   "outputs": [
    {
     "name": "stdout",
     "output_type": "stream",
     "text": [
      "Results of univariate zero finding:\n",
      "\n",
      "* Converged to: -3.0\n",
      "* Algorithm: FalsePosition{:anderson_bjork}()\n",
      "* iterations: 1\n",
      "* function evaluations: 3\n",
      "* stopped as |f(x_n)| ≤ max(δ, max(1,|x|)⋅ϵ) using δ = atol, ϵ = rtol\n",
      "\n",
      "Trace:\n",
      "(a_0, b_0) = (-4.0000000000000000, -2.0000000000000000)\n",
      "(a_1, b_1) = (-4.0000000000000000, -3.0000000000000000)\n",
      "\n"
     ]
    },
    {
     "data": {
      "text/plain": [
       "-1.0"
      ]
     },
     "execution_count": 14,
     "metadata": {},
     "output_type": "execute_result"
    }
   ],
   "source": [
    "x5 = find_zero(f5, (-4,-2), FalsePosition(), verbose=true)\n",
    "iszero(f5(x5))\n",
    "sign(f5(prevfloat(x5)))*sign(f5(nextfloat(x5)))"
   ]
  },
  {
   "cell_type": "code",
   "execution_count": 15,
   "metadata": {},
   "outputs": [
    {
     "name": "stdout",
     "output_type": "stream",
     "text": [
      "Results of univariate zero finding:\n",
      "\n",
      "* Converged to: 0.7032048403631358\n",
      "* Algorithm: FalsePosition{:anderson_bjork}()\n",
      "* iterations: 7\n",
      "* function evaluations: 9\n",
      "* stopped as |f(x_n)| ≤ max(δ, max(1,|x|)⋅ϵ) using δ = atol, ϵ = rtol\n",
      "\n",
      "Trace:\n",
      "(a_0, b_0) = ( 0.0000000000000000,  1.0000000000000000)\n",
      "(a_1, b_1) = ( 1.0000000000000000,  0.5000000000000000)\n",
      "(a_2, b_2) = ( 1.0000000000000000,  0.6406142495805834)\n",
      "(a_3, b_3) = ( 1.0000000000000000,  0.6973355661327167)\n",
      "(a_4, b_4) = ( 0.6973355661327167,  0.7032413634009883)\n",
      "(a_5, b_5) = ( 0.7032413634009883,  0.7032047489144125)\n",
      "(a_6, b_6) = ( 0.7032413634009883,  0.7032048403617090)\n",
      "(a_7, b_7) = ( 0.7032048403617090,  0.7032048403631358)\n",
      "\n"
     ]
    },
    {
     "data": {
      "text/plain": [
       "-1.0"
      ]
     },
     "execution_count": 15,
     "metadata": {},
     "output_type": "execute_result"
    }
   ],
   "source": [
    "x6 = find_zero(f6, (0,1), FalsePosition(), verbose=true)\n",
    "iszero(f6(x6))\n",
    "sign(f6(prevfloat(x6)))*sign(f6(nextfloat(x6)))"
   ]
  },
  {
   "cell_type": "markdown",
   "metadata": {},
   "source": [
    "<b> Wykorzystując pochodną </b>"
   ]
  },
  {
   "cell_type": "code",
   "execution_count": 16,
   "metadata": {
    "scrolled": true
   },
   "outputs": [
    {
     "data": {
      "text/plain": [
       "D (generic function with 1 method)"
      ]
     },
     "execution_count": 16,
     "metadata": {},
     "output_type": "execute_result"
    }
   ],
   "source": [
    "# definujemy D(f) obliczającą  funkcje pochodną \n",
    "D(f) = x->ForwardDiff.derivative(f, float(x))"
   ]
  },
  {
   "cell_type": "code",
   "execution_count": 17,
   "metadata": {},
   "outputs": [
    {
     "name": "stdout",
     "output_type": "stream",
     "text": [
      "Results of univariate zero finding:\n",
      "\n",
      "* Converged to: 0.35173371124919584\n",
      "* Algorithm: Roots.Newton()\n",
      "* iterations: 4\n",
      "* function evaluations: 9\n",
      "* stopped as |f(x_n)| ≤ max(δ, max(1,|x|)⋅ϵ) using δ = atol, ϵ = rtol\n",
      "\n",
      "Trace:\n",
      "x_0 =  0.0000000000000000,\t fx_0 = -1.0000000000000000\n",
      "x_1 =  0.3333333333333333,\t fx_1 = -0.0498646439071226\n",
      "x_2 =  0.3516893315554154,\t fx_2 = -0.0001199797491258\n",
      "x_3 =  0.3517337109929426,\t fx_3 = -0.0000000006927722\n",
      "x_4 =  0.3517337112491958,\t fx_4 =  0.0000000000000000\n",
      "\n"
     ]
    },
    {
     "data": {
      "text/plain": [
       "-1.0"
      ]
     },
     "execution_count": 17,
     "metadata": {},
     "output_type": "execute_result"
    }
   ],
   "source": [
    "x1 = find_zero((f1, D(f1)),0, Roots.Newton(),verbose=true)\n",
    "iszero(f1(x1))\n",
    "sign(f1(prevfloat(x1)))*sign(f1(nextfloat(x1)))"
   ]
  },
  {
   "cell_type": "code",
   "execution_count": 18,
   "metadata": {},
   "outputs": [
    {
     "name": "stdout",
     "output_type": "stream",
     "text": [
      "Results of univariate zero finding:\n",
      "\n",
      "* Converged to: 0.0\n",
      "* Algorithm: Roots.Newton()\n",
      "* iterations: 0\n",
      "* function evaluations: 1\n",
      "* stopped as |f(x_n)| ≤ max(δ, max(1,|x|)⋅ϵ) using δ = atol, ϵ = rtol\n",
      "\n",
      "Trace:\n",
      "x_0 =  0.0000000000000000,\t fx_0 =  0.0000000000000000\n",
      "\n"
     ]
    },
    {
     "data": {
      "text/plain": [
       "-1.0"
      ]
     },
     "execution_count": 18,
     "metadata": {},
     "output_type": "execute_result"
    }
   ],
   "source": [
    "x2 = find_zero((f2, D(f2)),0, Roots.Newton(),verbose=true)\n",
    "iszero(f2(x2))\n",
    "sign(f2(prevfloat(x2)))*sign(f2(nextfloat(x2)))"
   ]
  },
  {
   "cell_type": "code",
   "execution_count": 19,
   "metadata": {},
   "outputs": [
    {
     "name": "stdout",
     "output_type": "stream",
     "text": [
      "Results of univariate zero finding:\n",
      "\n",
      "* Converged to: 0.0\n",
      "* Algorithm: Roots.Newton()\n",
      "* iterations: 0\n",
      "* function evaluations: 1\n",
      "* stopped as |f(x_n)| ≤ max(δ, max(1,|x|)⋅ϵ) using δ = atol, ϵ = rtol\n",
      "\n",
      "Trace:\n",
      "x_0 =  0.0000000000000000,\t fx_0 =  0.0000000000000000\n",
      "\n"
     ]
    },
    {
     "data": {
      "text/plain": [
       "-1.0"
      ]
     },
     "execution_count": 19,
     "metadata": {},
     "output_type": "execute_result"
    }
   ],
   "source": [
    "x3 = find_zero((f3, D(f3)),0, Roots.Newton(),verbose=true)\n",
    "iszero(f3(x3))\n",
    "sign(f3(prevfloat(x3)))*sign(f3(nextfloat(x3)))"
   ]
  },
  {
   "cell_type": "code",
   "execution_count": 20,
   "metadata": {},
   "outputs": [
    {
     "name": "stdout",
     "output_type": "stream",
     "text": [
      "Results of univariate zero finding:\n",
      "\n",
      "* Converged to: 0.0\n",
      "* Algorithm: Roots.Newton()\n",
      "* iterations: 0\n",
      "* function evaluations: 1\n",
      "* stopped as |f(x_n)| ≤ max(δ, max(1,|x|)⋅ϵ) using δ = atol, ϵ = rtol\n",
      "\n",
      "Trace:\n",
      "x_0 =  0.0000000000000000,\t fx_0 =  0.0000000000000000\n",
      "\n"
     ]
    },
    {
     "data": {
      "text/plain": [
       "-0.0"
      ]
     },
     "execution_count": 20,
     "metadata": {},
     "output_type": "execute_result"
    }
   ],
   "source": [
    "x4 = find_zero((f4, D(f4)),0, Roots.Newton(),verbose=true)\n",
    "iszero(f4(x4))\n",
    "sign(f4(prevfloat(x4)))*sign(f4(nextfloat(x4)))"
   ]
  },
  {
   "cell_type": "code",
   "execution_count": 21,
   "metadata": {},
   "outputs": [
    {
     "name": "stdout",
     "output_type": "stream",
     "text": [
      "Results of univariate zero finding:\n",
      "\n",
      "* Converged to: 0.9999999893171166\n",
      "* Algorithm: Roots.Newton()\n",
      "* iterations: 26\n",
      "* function evaluations: 53\n",
      "* stopped as |f(x_n)| ≤ max(δ, max(1,|x|)⋅ϵ) using δ = atol, ϵ = rtol\n",
      "\n",
      "Trace:\n",
      "x_0 =  0.0000000000000000,\t fx_0 =  3.0000000000000000\n",
      "x_1 =  0.6000000000000000,\t fx_1 =  0.5760000000000002\n",
      "x_2 =  0.8117647058823529,\t fx_2 =  0.1350604518624058\n",
      "x_3 =  0.9082650781831720,\t fx_3 =  0.0328892070132730\n",
      "x_4 =  0.9546772328747365,\t fx_4 =  0.0081235129715387\n",
      "x_5 =  0.9774692207697649,\t fx_5 =  0.0020191066159544\n",
      "x_6 =  0.9887666079847495,\t fx_6 =  0.0005033388530879\n",
      "x_7 =  0.9943912241748282,\t fx_7 =  0.0001256570221040\n",
      "x_8 =  0.9971975823794025,\t fx_8 =  0.0000313921691694\n",
      "x_9 =  0.9985992825526103,\t fx_9 =  0.0000078452892489\n",
      "x_10 =  0.9992997639663359,\t fx_10 =  0.0000019609786643\n",
      "x_11 =  0.9996499126368736,\t fx_11 =  0.0000004902017402\n",
      "x_12 =  0.9998249639795151,\t fx_12 =  0.0000001225450712\n",
      "x_13 =  0.9999124839047338,\t fx_13 =  0.0000000306355974\n",
      "x_14 =  0.9999562424310743,\t fx_14 =  0.0000000076588156\n",
      "x_15 =  0.9999781213352094,\t fx_15 =  0.0000000019146934\n",
      "x_16 =  0.9999890606975221,\t fx_16 =  0.0000000004786720\n",
      "x_17 =  0.9999945303562404,\t fx_17 =  0.0000000001196678\n",
      "x_18 =  0.9999972651799900,\t fx_18 =  0.0000000000299169\n",
      "x_19 =  0.9999986325904624,\t fx_19 =  0.0000000000074792\n",
      "x_20 =  0.9999993162953481,\t fx_20 =  0.0000000000018698\n",
      "x_21 =  0.9999996581477033,\t fx_21 =  0.0000000000004675\n",
      "x_22 =  0.9999998290738590,\t fx_22 =  0.0000000000001169\n",
      "x_23 =  0.9999999145369313,\t fx_23 =  0.0000000000000292\n",
      "x_24 =  0.9999999572684661,\t fx_24 =  0.0000000000000073\n",
      "x_25 =  0.9999999786342332,\t fx_25 =  0.0000000000000018\n",
      "x_26 =  0.9999999893171166,\t fx_26 =  0.0000000000000005\n",
      "\n"
     ]
    },
    {
     "data": {
      "text/plain": [
       "1.0"
      ]
     },
     "execution_count": 21,
     "metadata": {},
     "output_type": "execute_result"
    }
   ],
   "source": [
    "x5 = find_zero((f5, D(f5)),0, Roots.Newton(),verbose=true)\n",
    "iszero(f5(x5))\n",
    "sign(f5(prevfloat(x5)))*sign(f5(nextfloat(x5)))"
   ]
  },
  {
   "cell_type": "code",
   "execution_count": 22,
   "metadata": {},
   "outputs": [
    {
     "name": "stdout",
     "output_type": "stream",
     "text": [
      "Results of univariate zero finding:\n",
      "\n",
      "* Convergence failed: NaN produced by algorithm. \n",
      "* Algorithm Roots.Newton()\n",
      "\n",
      "Trace:\n",
      "x_0 =  0.0000000000000000,\t fx_0 =                NaN\n",
      "\n"
     ]
    },
    {
     "ename": "Roots.ConvergenceFailed",
     "evalue": "Roots.ConvergenceFailed(\"Stopped at: xn = 0.0\")",
     "output_type": "error",
     "traceback": [
      "Roots.ConvergenceFailed(\"Stopped at: xn = 0.0\")",
      "",
      "Stacktrace:",
      " [1] #find_zero#4(::Roots.NullTracks, ::Bool, ::Base.Iterators.Pairs{Union{},Union{},Tuple{},NamedTuple{(),Tuple{}}}, ::Function, ::Tuple{typeof(f6),getfield(Main, Symbol(\"##3#4\")){typeof(f6)}}, ::Int64, ::Roots.Newton, ::Nothing) at /home/jrun/.julia/packages/Roots/xWzoi/src/find_zero.jl:542",
      " [2] #find_zero at ./none:0 [inlined] (repeats 2 times)",
      " [3] top-level scope at In[22]:1"
     ]
    }
   ],
   "source": [
    "x6 = find_zero((f6, D(f6)),0, Roots.Newton(),verbose=true)\n",
    "iszero(f6(x6))\n",
    "sign(f6(prevfloat(x6)))*sign(f6(nextfloat(x6)))"
   ]
  },
  {
   "cell_type": "markdown",
   "metadata": {},
   "source": [
    "<b> Wykorzystując przybliżenie pochodnej </b>"
   ]
  },
  {
   "cell_type": "code",
   "execution_count": 37,
   "metadata": {},
   "outputs": [
    {
     "name": "stdout",
     "output_type": "stream",
     "text": [
      "Results of univariate zero finding:\n",
      "\n",
      "* Converged to: 0.35173371124919584\n",
      "* Algorithm: Roots.Secant(), with possible bracketing with Roots.AlefeldPotraShi()\n",
      "* iterations: 6\n",
      "* function evaluations: 9\n",
      "* stopped as |f(x_n)| ≤ max(δ, max(1,|x|)⋅ϵ) using δ = atol, ϵ = rtol\n",
      "\n",
      "Trace:\n",
      "x_0 =  0.0000000000000000,\t fx_0 = -1.0000000000000000\n",
      "x_1 =  0.0006055454452393,\t fx_1 = -0.9981835469699233\n",
      "x_2 =  0.0611600899691728,\t fx_2 = -0.8183524555296526\n",
      "x_3 =  0.3367240083536633,\t fx_3 = -0.0406578832636679\n",
      "x_4 =  0.3511304939135544,\t fx_4 = -0.0016309064270826\n",
      "x_5 =  0.3517325295257331,\t fx_5 = -0.0000031947513749\n",
      "x_6 =  0.3517337111564411,\t fx_6 = -0.0000000002507594\n",
      "\n"
     ]
    },
    {
     "data": {
      "text/plain": [
       "-1.0"
      ]
     },
     "execution_count": 37,
     "metadata": {},
     "output_type": "execute_result"
    }
   ],
   "source": [
    "x1 = find_zero(f1, 0, verbose=true)\n",
    "iszero(f1(x1))\n",
    "sign(f1(prevfloat(x1)))*sign(f1(nextfloat(x1)))"
   ]
  },
  {
   "cell_type": "code",
   "execution_count": 38,
   "metadata": {},
   "outputs": [
    {
     "name": "stdout",
     "output_type": "stream",
     "text": [
      "Results of univariate zero finding:\n",
      "\n",
      "* Converged to: 0.0\n",
      "* Algorithm: Roots.Secant(), with possible bracketing with Roots.AlefeldPotraShi()\n",
      "* iterations: 0\n",
      "* function evaluations: 2\n",
      "* stopped as |f(x_n)| ≤ max(δ, max(1,|x|)⋅ϵ) using δ = atol, ϵ = rtol\n",
      "\n",
      "Trace:\n",
      "x_0 =  0.0000000000000000,\t fx_0 =  0.0000000000000000\n",
      "\n"
     ]
    },
    {
     "data": {
      "text/plain": [
       "-1.0"
      ]
     },
     "execution_count": 38,
     "metadata": {},
     "output_type": "execute_result"
    }
   ],
   "source": [
    "x2 = find_zero(f2, 0, verbose=true)\n",
    "iszero(f2(x2))\n",
    "sign(f2(prevfloat(x2)))*sign(f2(nextfloat(x2)))"
   ]
  },
  {
   "cell_type": "code",
   "execution_count": 39,
   "metadata": {},
   "outputs": [
    {
     "name": "stdout",
     "output_type": "stream",
     "text": [
      "Results of univariate zero finding:\n",
      "\n",
      "* Converged to: 0.0\n",
      "* Algorithm: Roots.Secant(), with possible bracketing with Roots.AlefeldPotraShi()\n",
      "* iterations: 0\n",
      "* function evaluations: 2\n",
      "* stopped as |f(x_n)| ≤ max(δ, max(1,|x|)⋅ϵ) using δ = atol, ϵ = rtol\n",
      "\n",
      "Trace:\n",
      "x_0 =  0.0000000000000000,\t fx_0 =  0.0000000000000000\n",
      "\n"
     ]
    },
    {
     "data": {
      "text/plain": [
       "-1.0"
      ]
     },
     "execution_count": 39,
     "metadata": {},
     "output_type": "execute_result"
    }
   ],
   "source": [
    "x3 = find_zero(f3, 0, verbose=true)\n",
    "iszero(f3(x3))\n",
    "sign(f3(prevfloat(x3)))*sign(f3(nextfloat(x3)))"
   ]
  },
  {
   "cell_type": "code",
   "execution_count": 40,
   "metadata": {},
   "outputs": [
    {
     "name": "stdout",
     "output_type": "stream",
     "text": [
      "Results of univariate zero finding:\n",
      "\n",
      "* Converged to: 0.0\n",
      "* Algorithm: Roots.Secant(), with possible bracketing with Roots.AlefeldPotraShi()\n",
      "* iterations: 0\n",
      "* function evaluations: 2\n",
      "* stopped as |f(x_n)| ≤ max(δ, max(1,|x|)⋅ϵ) using δ = atol, ϵ = rtol\n",
      "\n",
      "Trace:\n",
      "x_0 =  0.0000000000000000,\t fx_0 =  0.0000000000000000\n",
      "\n"
     ]
    },
    {
     "data": {
      "text/plain": [
       "-0.0"
      ]
     },
     "execution_count": 40,
     "metadata": {},
     "output_type": "execute_result"
    }
   ],
   "source": [
    "x4 = find_zero(f4, 0, verbose=true)\n",
    "iszero(f4(x4))\n",
    "sign(f4(prevfloat(x4)))*sign(f4(nextfloat(x4)))"
   ]
  },
  {
   "cell_type": "code",
   "execution_count": 41,
   "metadata": {},
   "outputs": [
    {
     "name": "stdout",
     "output_type": "stream",
     "text": [
      "Results of univariate zero finding:\n",
      "\n",
      "* Converged to: 0.9999999888695782\n",
      "* Algorithm: Roots.Secant(), with possible bracketing with Roots.AlefeldPotraShi()\n",
      "* iterations: 39\n",
      "* function evaluations: 41\n",
      "* stopped as |f(x_n)| ≤ max(δ, max(1,|x|)⋅ϵ) using δ = atol, ϵ = rtol\n",
      "\n",
      "Trace:\n",
      "x_0 =  0.0000000000000000,\t fx_0 =  3.0000000000000000\n",
      "x_1 =  0.0006055454452393,\t fx_1 =  2.9969726396811338\n",
      "x_2 =  0.0611600899691728,\t fx_2 =  2.6981688795376724\n",
      "x_3 =  0.6079617348701962,\t fx_3 =  0.5545220756632478\n",
      "x_4 =  0.7494092823666242,\t fx_4 =  0.2354468095831621\n",
      "x_5 =  0.8537839466599004,\t fx_5 =  0.0823905643829195\n",
      "x_6 =  0.9099690927619110,\t fx_6 =  0.0316925057286190\n",
      "x_7 =  0.9450917012397451,\t fx_7 =  0.0118941408929991\n",
      "x_8 =  0.9661920929758044,\t fx_8 =  0.0045332567311843\n",
      "x_9 =  0.9791869303846483,\t fx_9 =  0.0017237195812777\n",
      "x_10 =  0.9871595801493571,\t fx_10 =  0.0006573884457956\n",
      "x_11 =  0.9920746835945216,\t fx_11 =  0.0002507447663111\n",
      "x_12 =  0.9951054363811269,\t fx_12 =  0.0000957097542250\n",
      "x_13 =  0.9969764499052314,\t fx_13 =  0.0000365397798452\n",
      "x_14 =  0.9981318741381263,\t fx_14 =  0.0000139530573815\n",
      "x_15 =  0.9988456430635428,\t fx_15 =  0.0000053286215203\n",
      "x_16 =  0.9992866463381521,\t fx_16 =  0.0000020351307808\n",
      "x_17 =  0.9995591533556458,\t fx_17 =  0.0000007772973787\n",
      "x_18 =  0.9997275532327831,\t fx_18 =  0.0000002968887409\n",
      "x_19 =  0.9998316230257855,\t fx_19 =  0.0000001133984482\n",
      "x_20 =  0.9998959389786939,\t fx_20 =  0.0000000433136578\n",
      "x_21 =  0.9999356873914172,\t fx_21 =  0.0000000165441805\n",
      "x_22 =  0.9999602528660081,\t fx_22 =  0.0000000063192758\n",
      "x_23 =  0.9999754350134976,\t fx_23 =  0.0000000024137394\n",
      "x_24 =  0.9999848180390168,\t fx_24 =  0.0000000009219643\n",
      "x_25 =  0.9999906170457008,\t fx_25 =  0.0000000003521585\n",
      "x_26 =  0.9999942010205238,\t fx_26 =  0.0000000001345125\n",
      "x_27 =  0.9999964160355683,\t fx_27 =  0.0000000000513792\n",
      "x_28 =  0.9999977849889248,\t fx_28 =  0.0000000000196251\n",
      "x_29 =  0.9999986310481597,\t fx_29 =  0.0000000000074961\n",
      "x_30 =  0.9999991539413443,\t fx_30 =  0.0000000000028633\n",
      "x_31 =  0.9999994771070365,\t fx_31 =  0.0000000000010937\n",
      "x_32 =  0.9999996768343923,\t fx_32 =  0.0000000000004177\n",
      "x_33 =  0.9999998002726765,\t fx_33 =  0.0000000000001596\n",
      "x_34 =  0.9999998765617280,\t fx_34 =  0.0000000000000609\n",
      "x_35 =  0.9999999237109533,\t fx_35 =  0.0000000000000233\n",
      "x_36 =  0.9999999528507765,\t fx_36 =  0.0000000000000089\n",
      "x_37 =  0.9999999708601774,\t fx_37 =  0.0000000000000034\n",
      "x_38 =  0.9999999819905993,\t fx_38 =  0.0000000000000013\n",
      "x_39 =  0.9999999888695782,\t fx_39 =  0.0000000000000005\n",
      "\n"
     ]
    },
    {
     "data": {
      "text/plain": [
       "1.0"
      ]
     },
     "execution_count": 41,
     "metadata": {},
     "output_type": "execute_result"
    }
   ],
   "source": [
    "x5 = find_zero(f5, 0, verbose=true)\n",
    "iszero(f5(x5))\n",
    "sign(f5(prevfloat(x5)))*sign(f5(nextfloat(x5)))"
   ]
  },
  {
   "cell_type": "code",
   "execution_count": 47,
   "metadata": {},
   "outputs": [
    {
     "name": "stdout",
     "output_type": "stream",
     "text": [
      "Results of univariate zero finding:\n",
      "\n",
      "* Converged to: 3.7204470487986665\n",
      "* Algorithm: Roots.Secant(), with possible bracketing with Roots.AlefeldPotraShi()\n",
      "* iterations: 1\n",
      "* function evaluations: 8\n",
      "* stopped as x_n ≈ x_{n-1} using atol=xatol, rtol=xrtol\n",
      "* Note: Bracketing used over (-1.0, 3.7204470487986665), those steps not shown. \n",
      "\n",
      "Trace:\n",
      "x_0 = -1.0000000000000000,\t fx_0 = -1.6421225588285577\n",
      "\n"
     ]
    },
    {
     "data": {
      "text/plain": [
       "1.0"
      ]
     },
     "execution_count": 47,
     "metadata": {},
     "output_type": "execute_result"
    }
   ],
   "source": [
    "x6 = find_zero(f6, -1,verbose=true)\n",
    "iszero(f6(x6))\n",
    "sign(f6(prevfloat(x6)))*sign(f6(nextfloat(x6)))"
   ]
  },
  {
   "cell_type": "markdown",
   "metadata": {},
   "source": [
    "<b> Przedstawienie wyników </b>"
   ]
  },
  {
   "cell_type": "code",
   "execution_count": 58,
   "metadata": {},
   "outputs": [
    {
     "name": "stdout",
     "output_type": "stream",
     "text": [
      "18×4 DataFrame. Omitted printing of 1 columns\n",
      "│ Row │ funkcja  │ metoda                 │ liczba_iteracji │\n",
      "│     │ \u001b[90mFunction\u001b[39m │ \u001b[90mString\u001b[39m                 │ \u001b[90mFloat64\u001b[39m         │\n",
      "├─────┼──────────┼────────────────────────┼─────────────────┤\n",
      "│ 1   │ f1       │ regula falsi           │ 7.0             │\n",
      "│ 2   │ f1       │ Newtona                │ 4.0             │\n",
      "│ 3   │ f1       │ Przyblizenie pochodnej │ 6.0             │\n",
      "│ 4   │ f2       │ regula falsi           │ 30.0            │\n",
      "│ 5   │ f2       │ Newtona                │ 0.0             │\n",
      "│ 6   │ f2       │ Przyblizenie pochodnej │ 0.0             │\n",
      "│ 7   │ f3       │ regula falsi           │ 31.0            │\n",
      "⋮\n",
      "│ 11  │ f4       │ Newtona                │ 0.0             │\n",
      "│ 12  │ f4       │ Przyblizenie pochodnej │ 0.0             │\n",
      "│ 13  │ f5       │ regula falsi           │ 1.0             │\n",
      "│ 14  │ f5       │ Newtona                │ 26.0            │\n",
      "│ 15  │ f5       │ Przyblizenie pochodnej │ 39.0            │\n",
      "│ 16  │ f6       │ regula falsi           │ 7.0             │\n",
      "│ 17  │ f6       │ Newtona                │ NaN             │\n",
      "│ 18  │ f6       │ Przyblizenie pochodnej │ 1.0             │"
     ]
    }
   ],
   "source": [
    "using DataFrames\n",
    "df1 = DataFrame()\n",
    "df1[:funkcja] = [f1, f1, f1, f2, f2, f2, f3, f3, f3, f4, f4, f4, f5, f5, f5, f6, f6, f6]\n",
    "df1[:metoda] = [\"regula falsi\", \"Newtona\", \"Przyblizenie pochodnej\", \"regula falsi\", \"Newtona\", \"Przyblizenie pochodnej\", \"regula falsi\", \"Newtona\", \"Przyblizenie pochodnej\", \"regula falsi\", \"Newtona\", \"Przyblizenie pochodnej\", \"regula falsi\", \"Newtona\", \"Przyblizenie pochodnej\",\"regula falsi\", \"Newtona\", \"Przyblizenie pochodnej\"]\n",
    "df1[:liczba_iteracji] = [7, 4, 6, 30, 0, 0, 31, 0, 0, 17, 0, 0, 1, 26,  39, 7,  NaN, 1]\n",
    "df1[:liczba_wywolan_funkcji] = [9, 9, 9, 32, 1, 2, 33, 1, 2, 19, 1, 2, 3, 53, 41, 9, NaN, 8]\n",
    "show(df1)"
   ]
  },
  {
   "cell_type": "code",
   "execution_count": null,
   "metadata": {},
   "outputs": [],
   "source": []
  }
 ],
 "metadata": {
  "kernelspec": {
   "display_name": "Julia 1.0.3",
   "language": "julia",
   "name": "julia-1.0"
  },
  "language_info": {
   "file_extension": ".jl",
   "mimetype": "application/julia",
   "name": "julia",
   "version": "1.0.3"
  }
 },
 "nbformat": 4,
 "nbformat_minor": 2
}
